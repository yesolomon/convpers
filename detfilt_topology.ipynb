{
 "cells": [
  {
   "cell_type": "code",
   "execution_count": 2,
   "metadata": {},
   "outputs": [],
   "source": [
    "import numpy as np\n",
    "from sklearn.datasets import load_digits\n",
    "import gtda.homology\n",
    "import gtda.diagrams\n",
    "import matplotlib.pyplot as plt\n",
    "from  sklearn.preprocessing import StandardScaler\n",
    "from skimage import filters"
   ]
  },
  {
   "cell_type": "code",
   "execution_count": 14,
   "metadata": {},
   "outputs": [],
   "source": [
    "#Load data\n",
    "digits = load_digits()\n",
    "X = digits.data\n",
    "X = np.reshape(X,(1797,8,8))"
   ]
  },
  {
   "cell_type": "code",
   "execution_count": 17,
   "metadata": {},
   "outputs": [
    {
     "data": {
      "text/plain": [
       "<matplotlib.image.AxesImage at 0x2183d04a6d0>"
      ]
     },
     "execution_count": 17,
     "metadata": {},
     "output_type": "execute_result"
    },
    {
     "data": {
      "image/png": "[encoded data removed]",
      "text/plain": [
       "<Figure size 720x504 with 4 Axes>"
      ]
     },
     "metadata": {
      "needs_background": "light"
     },
     "output_type": "display_data"
    }
   ],
   "source": [
    "T = X[1]\n",
    "fig = plt.figure(figsize=(10, 7))\n",
    "fig.add_subplot(2, 2, 1)\n",
    "plt.imshow(T)\n",
    "fig.add_subplot(2, 2, 2)\n",
    "plt.imshow(filters.gaussian(T))\n",
    "fig.add_subplot(2, 2, 3)\n",
    "plt.imshow(filters.sobel(T))\n",
    "fig.add_subplot(2, 2, 4)\n",
    "from skimage.restoration import denoise_tv_bregman\n",
    "plt.imshow(denoise_tv_bregman(T))"
   ]
  },
  {
   "cell_type": "code",
   "execution_count": 23,
   "metadata": {},
   "outputs": [],
   "source": [
    "X_gauss = []\n",
    "X_sobel = []\n",
    "X_breg = []\n",
    "digits = load_digits()\n",
    "for im in X:\n",
    "    im_gauss = filters.gaussian(im)\n",
    "    X_gauss.append(im_gauss)\n",
    "    im_sobel = filters.sobel(im)\n",
    "    X_sobel.append(im_sobel)\n",
    "    im_breg = denoise_tv_bregman(im)\n",
    "    X_breg.append(im_breg)\n"
   ]
  },
  {
   "cell_type": "code",
   "execution_count": 24,
   "metadata": {},
   "outputs": [],
   "source": [
    "scaler = StandardScaler()\n",
    "def rescale(collection):\n",
    "    collection = np.reshape(collection,(1797,64))\n",
    "    collection = scaler.fit_transform(collection)\n",
    "    return np.reshape(collection,(1797,8,8))\n"
   ]
  },
  {
   "cell_type": "code",
   "execution_count": 25,
   "metadata": {},
   "outputs": [],
   "source": [
    "X = rescale(X)\n",
    "X_gauss = rescale(X_gauss)\n",
    "X_sobel = rescale(X_sobel)\n",
    "X_breg = rescale(X_breg)"
   ]
  },
  {
   "cell_type": "code",
   "execution_count": 26,
   "metadata": {},
   "outputs": [],
   "source": [
    "B = 10\n",
    "cubpers = gtda.homology.CubicalPersistence()\n",
    "diagrams = cubpers.fit_transform(X)\n",
    "persim  = gtda.diagrams.PersistenceImage(n_bins=B)\n",
    "def im_2_persim(collection):\n",
    "    diagrams = cubpers.fit_transform(collection)\n",
    "    im = persim.fit_transform(diagrams)\n",
    "    return np.reshape(im,(1797,2*B*B))"
   ]
  },
  {
   "cell_type": "code",
   "execution_count": 29,
   "metadata": {},
   "outputs": [],
   "source": [
    "diagrams = im_2_persim(X)\n",
    "diagrams_gauss = im_2_persim(X_gauss)\n",
    "diagrams_sobel = im_2_persim(X_sobel)\n",
    "diagrams_breg = im_2_persim(X_breg)"
   ]
  },
  {
   "cell_type": "code",
   "execution_count": 31,
   "metadata": {},
   "outputs": [
    {
     "name": "stdout",
     "output_type": "stream",
     "text": [
      "(1797, 800)\n"
     ]
    }
   ],
   "source": [
    "total_diagrams = np.concatenate((diagrams,diagrams_gauss,diagrams_sobel,diagrams_breg),axis = 1)"
   ]
  },
  {
   "cell_type": "code",
   "execution_count": 33,
   "metadata": {},
   "outputs": [],
   "source": [
    "#Load target data\n",
    "from sklearn.preprocessing import OneHotEncoder\n",
    "y = digits.target\n",
    "enc = OneHotEncoder(sparse=False)\n",
    "labels = enc.fit_transform(y.reshape(-1,1))"
   ]
  },
  {
   "cell_type": "code",
   "execution_count": 34,
   "metadata": {},
   "outputs": [],
   "source": [
    "#Train test split\n",
    "from sklearn.model_selection import train_test_split\n",
    "X_train, X_test, y_train, y_test = train_test_split(total_diagrams,labels, test_size=0.33, random_state=0)"
   ]
  },
  {
   "cell_type": "code",
   "execution_count": 39,
   "metadata": {},
   "outputs": [
    {
     "name": "stdout",
     "output_type": "stream",
     "text": [
      "['fit_time', 'score_time', 'test_score']\n",
      "[0.34056761 0.33555927 0.34223706]\n"
     ]
    }
   ],
   "source": [
    "#Model 1: KNN Classifier\n",
    "from sklearn.model_selection import cross_validate\n",
    "from sklearn.neighbors import KNeighborsClassifier\n",
    "neigh = KNeighborsClassifier(n_neighbors=13)\n",
    "cv_results = cross_validate(neigh, total_diagrams, y, cv=3)\n",
    "print(sorted(cv_results.keys()))\n",
    "print(cv_results['test_score'])"
   ]
  },
  {
   "cell_type": "code",
   "execution_count": 40,
   "metadata": {},
   "outputs": [
    {
     "name": "stdout",
     "output_type": "stream",
     "text": [
      "['fit_time', 'score_time', 'test_score']\n",
      "[0.58764608 0.53589316 0.60267112]\n"
     ]
    }
   ],
   "source": [
    "#Model 2: Boosted Trees.\n",
    "from sklearn.model_selection import cross_validate\n",
    "from sklearn.ensemble import GradientBoostingClassifier\n",
    "gb_model = GradientBoostingClassifier(n_estimators = 100,random_state = 0)\n",
    "cv_results = cross_validate(gb_model, total_diagrams, y, cv=3)\n",
    "print(sorted(cv_results.keys()))\n",
    "print(cv_results['test_score'])"
   ]
  },
  {
   "cell_type": "code",
   "execution_count": 41,
   "metadata": {},
   "outputs": [
    {
     "data": {
      "image/png": "[encoded data removed]",
      "text/plain": [
       "<Figure size 432x288 with 1 Axes>"
      ]
     },
     "metadata": {
      "needs_background": "light"
     },
     "output_type": "display_data"
    }
   ],
   "source": [
    "#Model 3: Deep Learning\n",
    "from keras import models\n",
    "from keras import layers\n",
    "np.random.seed(0)\n",
    "network = models.Sequential()\n",
    "network.add(layers.Dense(units=100,input_dim = 8*B*B, activation='relu'))\n",
    "network.add(layers.Dense(units=100, activation='relu'))\n",
    "network.add(layers.Dense(units=10, activation='softmax'))\n",
    "network.compile(loss='categorical_crossentropy',optimizer='rmsprop',metrics='accuracy')\n",
    "history = network.fit(total_diagrams, labels,validation_split = 0.1, epochs=50, batch_size=4,verbose=0)\n",
    "plt.plot(history.history['accuracy'])\n",
    "plt.plot(history.history['val_accuracy'])\n",
    "plt.title('model accuracy')\n",
    "plt.ylabel('accuracy')\n",
    "plt.xlabel('epoch')\n",
    "plt.legend(['train', 'val'], loc='upper left')\n",
    "plt.show()"
   ]
  },
  {
   "cell_type": "code",
   "execution_count": 69,
   "metadata": {},
   "outputs": [
    {
     "data": {
      "text/plain": [
       "[<matplotlib.lines.Line2D at 0x21847a0a610>]"
      ]
     },
     "execution_count": 69,
     "metadata": {},
     "output_type": "execute_result"
    },
    {
     "data": {
      "image/png": "[encoded data removed]",
      "text/plain": [
       "<Figure size 432x288 with 1 Axes>"
      ]
     },
     "metadata": {
      "needs_background": "light"
     },
     "output_type": "display_data"
    }
   ],
   "source": [
    "#Let's run these experiments again, now using PCA preprocessing\n",
    "from sklearn.decomposition import PCA \n",
    "pca = PCA(n_components=200)\n",
    "diagrams_pca = pca.fit_transform(total_diagrams)\n",
    "plt.plot(np.cumsum(pca.explained_variance_ratio_))\n"
   ]
  },
  {
   "cell_type": "code",
   "execution_count": 70,
   "metadata": {},
   "outputs": [
    {
     "name": "stdout",
     "output_type": "stream",
     "text": [
      "['fit_time', 'score_time', 'test_score']\n",
      "[0.30550918 0.30550918 0.31218698]\n"
     ]
    }
   ],
   "source": [
    "#Model 1: KNN Classifier\n",
    "from sklearn.model_selection import cross_validate\n",
    "from sklearn.neighbors import KNeighborsClassifier\n",
    "neigh = KNeighborsClassifier(n_neighbors=3)\n",
    "cv_results = cross_validate(neigh, diagrams_pca, y, cv=3)\n",
    "print(sorted(cv_results.keys()))\n",
    "print(cv_results['test_score'])"
   ]
  },
  {
   "cell_type": "code",
   "execution_count": 71,
   "metadata": {},
   "outputs": [
    {
     "name": "stdout",
     "output_type": "stream",
     "text": [
      "['fit_time', 'score_time', 'test_score']\n",
      "[0.39732888 0.41402337 0.44240401]\n"
     ]
    }
   ],
   "source": [
    "#Model 2: Boosted Trees.\n",
    "from sklearn.model_selection import cross_validate\n",
    "from sklearn.ensemble import GradientBoostingClassifier\n",
    "gb_model = GradientBoostingClassifier(n_estimators = 100,random_state = 0)\n",
    "cv_results = cross_validate(gb_model,diagrams_pca, y, cv=3)\n",
    "print(sorted(cv_results.keys()))\n",
    "print(cv_results['test_score'])"
   ]
  },
  {
   "cell_type": "code",
   "execution_count": 72,
   "metadata": {},
   "outputs": [
    {
     "data": {
      "image/png": "[encoded data removed]",
      "text/plain": [
       "<Figure size 432x288 with 1 Axes>"
      ]
     },
     "metadata": {
      "needs_background": "light"
     },
     "output_type": "display_data"
    }
   ],
   "source": [
    "#Model 3: Deep Learning\n",
    "from keras import models\n",
    "from keras import layers\n",
    "np.random.seed(0)\n",
    "network = models.Sequential()\n",
    "network.add(layers.Dense(units=100,input_dim = 200, activation='relu'))\n",
    "network.add(layers.Dense(units=100, activation='relu'))\n",
    "network.add(layers.Dense(units=10, activation='softmax'))\n",
    "network.compile(loss='categorical_crossentropy',optimizer='rmsprop',metrics='accuracy')\n",
    "history = network.fit(diagrams_pca, labels,validation_split = 0.1, epochs=50, batch_size=4,verbose=0)\n",
    "plt.plot(history.history['accuracy'])\n",
    "plt.plot(history.history['val_accuracy'])\n",
    "plt.title('model accuracy')\n",
    "plt.ylabel('accuracy')\n",
    "plt.xlabel('epoch')\n",
    "plt.legend(['train', 'val'], loc='upper left')\n",
    "plt.show()"
   ]
  },
  {
   "cell_type": "code",
   "execution_count": null,
   "metadata": {},
   "outputs": [],
   "source": []
  }
 ],
 "metadata": {
  "interpreter": {
   "hash": "9c521ed6e938168317983e85460de310dc15f7f321a0e14727b23c46c6c5c2a0"
  },
  "kernelspec": {
   "display_name": "Python 3.8.12 ('toplearn')",
   "language": "python",
   "name": "python3"
  },
  "language_info": {
   "codemirror_mode": {
    "name": "ipython",
    "version": 3
   },
   "file_extension": ".py",
   "mimetype": "text/x-python",
   "name": "python",
   "nbconvert_exporter": "python",
   "pygments_lexer": "ipython3",
   "version": "3.8.12"
  }
 },
 "nbformat": 4,
 "nbformat_minor": 2
}
