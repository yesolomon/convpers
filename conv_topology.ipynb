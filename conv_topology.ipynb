{
 "cells": [
  {
   "cell_type": "code",
   "execution_count": 1,
   "metadata": {},
   "outputs": [],
   "source": [
    "import numpy as np\n",
    "from sklearn.datasets import load_digits\n",
    "import gtda.homology\n",
    "import gtda.diagrams\n",
    "import matplotlib.pyplot as plt\n",
    "from  sklearn.preprocessing import StandardScaler\n",
    "from skimage import filters\n",
    "from scipy.signal import convolve2d"
   ]
  },
  {
   "cell_type": "code",
   "execution_count": 2,
   "metadata": {},
   "outputs": [],
   "source": [
    "#Load data\n",
    "digits = load_digits()\n",
    "X = digits.data\n",
    "X = np.reshape(X,(1797,8,8))"
   ]
  },
  {
   "cell_type": "code",
   "execution_count": 92,
   "metadata": {},
   "outputs": [
    {
     "name": "stdout",
     "output_type": "stream",
     "text": [
      "(44925, 4, 4)\n",
      "[0.16609951 0.15618705 0.11817766 0.10800606 0.08777139 0.07112392\n",
      " 0.05550198 0.04673085 0.03995888 0.03654383 0.02770174 0.02415124\n",
      " 0.01962616 0.01852151 0.0147113  0.00918692]\n"
     ]
    },
    {
     "data": {
      "image/png": "[encoded data removed]",
      "text/plain": [
       "<Figure size 432x288 with 1 Axes>"
      ]
     },
     "metadata": {
      "needs_background": "light"
     },
     "output_type": "display_data"
    }
   ],
   "source": [
    "from sklearn.feature_extraction.image import extract_patches_2d\n",
    "from sklearn.decomposition import PCA \n",
    "patches = []\n",
    "for im in X:\n",
    "    patches.extend(extract_patches_2d(im,(4,4)))\n",
    "print(np.shape(patches))\n",
    "patches = np.reshape(patches,(44925,16))\n",
    "pca = PCA(n_components=16)\n",
    "pca.fit(patches)\n",
    "plt.plot(np.cumsum(pca.explained_variance_ratio_))\n",
    "print(pca.explained_variance_ratio_)\n",
    "filters = []\n",
    "for vec in pca.components_:\n",
    "    filters.append(np.reshape(vec,(4,4)))\n",
    "\n"
   ]
  },
  {
   "cell_type": "code",
   "execution_count": 46,
   "metadata": {},
   "outputs": [],
   "source": [
    "#f1 = [[1,1,1],[1,1,1],[1,1,1]]\n",
    "#f2 = [[1,0,1],[1,0,1],[1,0,1]]\n",
    "#f3 = [[-1,0,1],[-1,0,1],[-1,0,1]]"
   ]
  },
  {
   "cell_type": "code",
   "execution_count": 93,
   "metadata": {},
   "outputs": [
    {
     "data": {
      "text/plain": [
       "<matplotlib.image.AxesImage at 0x15cd4b84820>"
      ]
     },
     "execution_count": 93,
     "metadata": {},
     "output_type": "execute_result"
    },
    {
     "data": {
      "image/png": "[encoded data removed]",
      "text/plain": [
       "<Figure size 720x504 with 4 Axes>"
      ]
     },
     "metadata": {
      "needs_background": "light"
     },
     "output_type": "display_data"
    }
   ],
   "source": [
    "T = X[1]\n",
    "fig = plt.figure(figsize=(10, 7))\n",
    "fig.add_subplot(2, 2, 1)\n",
    "plt.imshow(T)\n",
    "fig.add_subplot(2, 2, 2)\n",
    "plt.imshow(convolve2d(T,filters[0]))\n",
    "fig.add_subplot(2, 2, 3)\n",
    "plt.imshow(convolve2d(T,filters[1]))\n",
    "fig.add_subplot(2, 2, 4)\n",
    "plt.imshow(convolve2d(T,filters[2]))"
   ]
  },
  {
   "cell_type": "code",
   "execution_count": 94,
   "metadata": {},
   "outputs": [],
   "source": [
    "datasets = [X]\n",
    "digits = load_digits()\n",
    "for f in filters:\n",
    "    Xf = []\n",
    "    for im in X:\n",
    "        Xf.append(convolve2d(im,f,'same'))\n",
    "    datasets.append(Xf)\n"
   ]
  },
  {
   "cell_type": "code",
   "execution_count": 95,
   "metadata": {},
   "outputs": [],
   "source": [
    "scaler = StandardScaler()\n",
    "def rescale(collection):\n",
    "    collection = np.reshape(collection,(1797,64))\n",
    "    collection = scaler.fit_transform(collection)\n",
    "    return np.reshape(collection,(1797,8,8))\n"
   ]
  },
  {
   "cell_type": "code",
   "execution_count": 96,
   "metadata": {},
   "outputs": [],
   "source": [
    "for idx,D in enumerate(datasets):\n",
    "    datasets[idx] = rescale(D)\n",
    "\n"
   ]
  },
  {
   "cell_type": "code",
   "execution_count": 97,
   "metadata": {},
   "outputs": [],
   "source": [
    "B = 10\n",
    "cubpers = gtda.homology.CubicalPersistence()\n",
    "diagrams = cubpers.fit_transform(X)\n",
    "persim  = gtda.diagrams.PersistenceImage(n_bins=B)\n",
    "def im_2_persim(collection):\n",
    "    diagrams = cubpers.fit_transform(collection)\n",
    "    im = persim.fit_transform(diagrams)\n",
    "    return np.reshape(im,(1797,2*B*B))"
   ]
  },
  {
   "cell_type": "code",
   "execution_count": 98,
   "metadata": {},
   "outputs": [],
   "source": [
    "diagrams = []\n",
    "for D in datasets:\n",
    "    diagrams.append(im_2_persim(D))"
   ]
  },
  {
   "cell_type": "code",
   "execution_count": 104,
   "metadata": {},
   "outputs": [],
   "source": [
    "total_diagrams = np.concatenate(diagrams,axis = 1)"
   ]
  },
  {
   "cell_type": "code",
   "execution_count": 105,
   "metadata": {},
   "outputs": [],
   "source": [
    "#Load target data\n",
    "from sklearn.preprocessing import OneHotEncoder\n",
    "y = digits.target\n",
    "enc = OneHotEncoder(sparse=False)\n",
    "labels = enc.fit_transform(y.reshape(-1,1))"
   ]
  },
  {
   "cell_type": "code",
   "execution_count": 106,
   "metadata": {},
   "outputs": [],
   "source": [
    "#Train test split\n",
    "from sklearn.model_selection import train_test_split\n",
    "X_train, X_test, y_train, y_test = train_test_split(total_diagrams,labels, test_size=0.33, random_state=0)"
   ]
  },
  {
   "cell_type": "code",
   "execution_count": 107,
   "metadata": {},
   "outputs": [
    {
     "name": "stdout",
     "output_type": "stream",
     "text": [
      "['fit_time', 'score_time', 'test_score']\n",
      "[0.43739566 0.47245409 0.47579299]\n"
     ]
    }
   ],
   "source": [
    "#Model 1: KNN Classifier\n",
    "from sklearn.model_selection import cross_validate\n",
    "from sklearn.neighbors import KNeighborsClassifier\n",
    "neigh = KNeighborsClassifier(n_neighbors=13)\n",
    "cv_results = cross_validate(neigh, total_diagrams, y, cv=3)\n",
    "print(sorted(cv_results.keys()))\n",
    "print(cv_results['test_score'])"
   ]
  },
  {
   "cell_type": "code",
   "execution_count": 108,
   "metadata": {},
   "outputs": [
    {
     "name": "stdout",
     "output_type": "stream",
     "text": [
      "['fit_time', 'score_time', 'test_score']\n",
      "[0.61936561 0.61602671 0.60934891]\n"
     ]
    }
   ],
   "source": [
    "#Model 2: Boosted Trees.\n",
    "from sklearn.model_selection import cross_validate\n",
    "from sklearn.ensemble import GradientBoostingClassifier\n",
    "gb_model = GradientBoostingClassifier(n_estimators = 10,random_state = 0)\n",
    "cv_results = cross_validate(gb_model, total_diagrams, y, cv=3)\n",
    "print(sorted(cv_results.keys()))\n",
    "print(cv_results['test_score'])"
   ]
  },
  {
   "cell_type": "code",
   "execution_count": 109,
   "metadata": {},
   "outputs": [
    {
     "data": {
      "image/png": "[encoded data removed]",
      "text/plain": [
       "<Figure size 432x288 with 1 Axes>"
      ]
     },
     "metadata": {
      "needs_background": "light"
     },
     "output_type": "display_data"
    }
   ],
   "source": [
    "#Model 3: Deep Learning\n",
    "from keras import models\n",
    "from keras import layers\n",
    "np.random.seed(0)\n",
    "network = models.Sequential()\n",
    "network.add(layers.Dense(units=100,input_dim = 2*(16+1)*B*B, activation='relu'))\n",
    "network.add(layers.Dense(units=100, activation='relu'))\n",
    "network.add(layers.Dense(units=10, activation='softmax'))\n",
    "network.compile(loss='categorical_crossentropy',optimizer='rmsprop',metrics='accuracy')\n",
    "history = network.fit(total_diagrams, labels,validation_split = 0.1, epochs=50, batch_size=4,verbose=0)\n",
    "plt.plot(history.history['accuracy'])\n",
    "plt.plot(history.history['val_accuracy'])\n",
    "plt.title('model accuracy')\n",
    "plt.ylabel('accuracy')\n",
    "plt.xlabel('epoch')\n",
    "plt.legend(['train', 'val'], loc='upper left')\n",
    "plt.show()"
   ]
  },
  {
   "cell_type": "code",
   "execution_count": 110,
   "metadata": {},
   "outputs": [
    {
     "data": {
      "text/plain": [
       "[<matplotlib.lines.Line2D at 0x15cdf2f5cd0>]"
      ]
     },
     "execution_count": 110,
     "metadata": {},
     "output_type": "execute_result"
    },
    {
     "data": {
      "image/png": "[encoded data removed]",
      "text/plain": [
       "<Figure size 432x288 with 1 Axes>"
      ]
     },
     "metadata": {
      "needs_background": "light"
     },
     "output_type": "display_data"
    }
   ],
   "source": [
    "#Let's run these experiments again, now using PCA preprocessing\n",
    "from sklearn.decomposition import PCA \n",
    "pca = PCA(n_components=200)\n",
    "diagrams_pca = pca.fit_transform(total_diagrams)\n",
    "plt.plot(np.cumsum(pca.explained_variance_ratio_))\n"
   ]
  },
  {
   "cell_type": "code",
   "execution_count": 111,
   "metadata": {},
   "outputs": [
    {
     "name": "stdout",
     "output_type": "stream",
     "text": [
      "['fit_time', 'score_time', 'test_score']\n",
      "[0.40901503 0.42237062 0.42570952]\n"
     ]
    }
   ],
   "source": [
    "#Model 1: KNN Classifier\n",
    "from sklearn.model_selection import cross_validate\n",
    "from sklearn.neighbors import KNeighborsClassifier\n",
    "neigh = KNeighborsClassifier(n_neighbors=3)\n",
    "cv_results = cross_validate(neigh, diagrams_pca, y, cv=3)\n",
    "print(sorted(cv_results.keys()))\n",
    "print(cv_results['test_score'])"
   ]
  },
  {
   "cell_type": "code",
   "execution_count": 112,
   "metadata": {},
   "outputs": [
    {
     "name": "stdout",
     "output_type": "stream",
     "text": [
      "['fit_time', 'score_time', 'test_score']\n",
      "[0.36894825 0.39232053 0.42904841]\n"
     ]
    }
   ],
   "source": [
    "#Model 2: Boosted Trees.\n",
    "from sklearn.model_selection import cross_validate\n",
    "from sklearn.ensemble import GradientBoostingClassifier\n",
    "gb_model = GradientBoostingClassifier(n_estimators = 10,random_state = 0)\n",
    "cv_results = cross_validate(gb_model,diagrams_pca, y, cv=3)\n",
    "print(sorted(cv_results.keys()))\n",
    "print(cv_results['test_score'])"
   ]
  },
  {
   "cell_type": "code",
   "execution_count": 113,
   "metadata": {},
   "outputs": [
    {
     "data": {
      "image/png": "[encoded data removed]",
      "text/plain": [
       "<Figure size 432x288 with 1 Axes>"
      ]
     },
     "metadata": {
      "needs_background": "light"
     },
     "output_type": "display_data"
    }
   ],
   "source": [
    "#Model 3: Deep Learning\n",
    "from keras import models\n",
    "from keras import layers\n",
    "np.random.seed(0)\n",
    "network = models.Sequential()\n",
    "network.add(layers.Dense(units=100,input_dim = 200, activation='relu'))\n",
    "network.add(layers.Dense(units=100, activation='relu'))\n",
    "network.add(layers.Dense(units=10, activation='softmax'))\n",
    "network.compile(loss='categorical_crossentropy',optimizer='rmsprop',metrics='accuracy')\n",
    "history = network.fit(diagrams_pca, labels,validation_split = 0.1, epochs=50, batch_size=4,verbose=0)\n",
    "plt.plot(history.history['accuracy'])\n",
    "plt.plot(history.history['val_accuracy'])\n",
    "plt.title('model accuracy')\n",
    "plt.ylabel('accuracy')\n",
    "plt.xlabel('epoch')\n",
    "plt.legend(['train', 'val'], loc='upper left')\n",
    "plt.show()"
   ]
  },
  {
   "cell_type": "code",
   "execution_count": null,
   "metadata": {},
   "outputs": [],
   "source": []
  }
 ],
 "metadata": {
  "interpreter": {
   "hash": "9c521ed6e938168317983e85460de310dc15f7f321a0e14727b23c46c6c5c2a0"
  },
  "kernelspec": {
   "display_name": "Python 3.8.12 ('toplearn')",
   "language": "python",
   "name": "python3"
  },
  "language_info": {
   "codemirror_mode": {
    "name": "ipython",
    "version": 3
   },
   "file_extension": ".py",
   "mimetype": "text/x-python",
   "name": "python",
   "nbconvert_exporter": "python",
   "pygments_lexer": "ipython3",
   "version": "3.8.12"
  }
 },
 "nbformat": 4,
 "nbformat_minor": 2
}
