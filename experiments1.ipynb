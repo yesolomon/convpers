{
 "cells": [
  {
   "cell_type": "code",
   "execution_count": 2,
   "metadata": {},
   "outputs": [],
   "source": [
    "import numpy as np\n",
    "from sklearn.datasets import load_digits\n",
    "import gtda.homology\n",
    "import gtda.diagrams\n",
    "import matplotlib.pyplot as plt\n",
    "from  sklearn.preprocessing import StandardScaler"
   ]
  },
  {
   "cell_type": "code",
   "execution_count": 20,
   "metadata": {},
   "outputs": [],
   "source": [
    "#Load data\n",
    "from sklearn.preprocessing import OneHotEncoder\n",
    "digits = load_digits()\n",
    "scaler = StandardScaler()\n",
    "X = scaler.fit_transform(digits.data)\n",
    "X = np.reshape(X,(1797,8,8))\n",
    "y = digits.target\n",
    "enc = OneHotEncoder(sparse=False)\n",
    "labels = enc.fit_transform(y.reshape(-1,1))"
   ]
  },
  {
   "cell_type": "code",
   "execution_count": 21,
   "metadata": {},
   "outputs": [],
   "source": [
    "#Cubical cubical persistence in dimensions (0,1), transform into persistence images, and flatten to obtain feature vectors\n",
    "B = 10\n",
    "cubpers = gtda.homology.CubicalPersistence()\n",
    "diagrams = cubpers.fit_transform(X)\n",
    "persim  = gtda.diagrams.PersistenceImage(n_bins=B)\n",
    "im = persim.fit_transform(diagrams)\n",
    "im = np.reshape(im,(1797,2*B*B))"
   ]
  },
  {
   "cell_type": "code",
   "execution_count": 22,
   "metadata": {},
   "outputs": [],
   "source": [
    "#Train test split\n",
    "from sklearn.model_selection import train_test_split\n",
    "X_train, X_test, y_train, y_test = train_test_split(im,labels, test_size=0.33, random_state=0)"
   ]
  },
  {
   "cell_type": "code",
   "execution_count": 27,
   "metadata": {},
   "outputs": [
    {
     "name": "stdout",
     "output_type": "stream",
     "text": [
      "['fit_time', 'score_time', 'test_score']\n",
      "[0.28547579 0.29048414 0.30050083]\n"
     ]
    }
   ],
   "source": [
    "#Model 1: KNN Classifier\n",
    "from sklearn.model_selection import cross_validate\n",
    "from sklearn.neighbors import KNeighborsClassifier\n",
    "neigh = KNeighborsClassifier(n_neighbors=3)\n",
    "cv_results = cross_validate(neigh, im, y, cv=3)\n",
    "print(sorted(cv_results.keys()))\n",
    "print(cv_results['test_score'])"
   ]
  },
  {
   "cell_type": "code",
   "execution_count": 28,
   "metadata": {},
   "outputs": [
    {
     "name": "stdout",
     "output_type": "stream",
     "text": [
      "['fit_time', 'score_time', 'test_score']\n",
      "[0.42904841 0.42404007 0.4457429 ]\n"
     ]
    }
   ],
   "source": [
    "#Model 2: Boosted Trees.\n",
    "from sklearn.model_selection import cross_validate\n",
    "from sklearn.ensemble import GradientBoostingClassifier\n",
    "gb_model = GradientBoostingClassifier(n_estimators = 100,random_state = 0)\n",
    "cv_results = cross_validate(gb_model, im, y, cv=3)\n",
    "print(sorted(cv_results.keys()))\n",
    "print(cv_results['test_score'])"
   ]
  },
  {
   "cell_type": "code",
   "execution_count": 29,
   "metadata": {},
   "outputs": [
    {
     "data": {
      "image/png": "[encoded data removed]",
      "text/plain": [
       "<Figure size 432x288 with 1 Axes>"
      ]
     },
     "metadata": {
      "needs_background": "light"
     },
     "output_type": "display_data"
    }
   ],
   "source": [
    "#Model 3: Deep Learning\n",
    "from keras import models\n",
    "from keras import layers\n",
    "np.random.seed(0)\n",
    "network = models.Sequential()\n",
    "network.add(layers.Dense(units=100,input_dim = 2*B*B, activation='relu'))\n",
    "network.add(layers.Dense(units=100, activation='relu'))\n",
    "network.add(layers.Dense(units=10, activation='softmax'))\n",
    "network.compile(loss='categorical_crossentropy',optimizer='rmsprop',metrics='accuracy')\n",
    "history = network.fit(im, labels,validation_split = 0.1, epochs=50, batch_size=4,verbose=0)\n",
    "plt.plot(history.history['accuracy'])\n",
    "plt.plot(history.history['val_accuracy'])\n",
    "plt.title('model accuracy')\n",
    "plt.ylabel('accuracy')\n",
    "plt.xlabel('epoch')\n",
    "plt.legend(['train', 'val'], loc='upper left')\n",
    "plt.show()"
   ]
  },
  {
   "cell_type": "code",
   "execution_count": null,
   "metadata": {},
   "outputs": [],
   "source": []
  }
 ],
 "metadata": {
  "interpreter": {
   "hash": "9c521ed6e938168317983e85460de310dc15f7f321a0e14727b23c46c6c5c2a0"
  },
  "kernelspec": {
   "display_name": "Python 3.8.12 ('toplearn')",
   "language": "python",
   "name": "python3"
  },
  "language_info": {
   "codemirror_mode": {
    "name": "ipython",
    "version": 3
   },
   "file_extension": ".py",
   "mimetype": "text/x-python",
   "name": "python",
   "nbconvert_exporter": "python",
   "pygments_lexer": "ipython3",
   "version": "3.8.12"
  }
 },
 "nbformat": 4,
 "nbformat_minor": 2
}
